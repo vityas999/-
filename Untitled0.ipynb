{
  "nbformat": 4,
  "nbformat_minor": 0,
  "metadata": {
    "colab": {
      "provenance": [],
      "authorship_tag": "ABX9TyPo9GbRA0X0RjnlDRDsw1z2",
      "include_colab_link": true
    },
    "kernelspec": {
      "name": "python3",
      "display_name": "Python 3"
    },
    "language_info": {
      "name": "python"
    }
  },
  "cells": [
    {
      "cell_type": "markdown",
      "metadata": {
        "id": "view-in-github",
        "colab_type": "text"
      },
      "source": [
        "<a href=\"https://colab.research.google.com/github/vityas999/-/blob/main/Untitled0.ipynb\" target=\"_parent\"><img src=\"https://colab.research.google.com/assets/colab-badge.svg\" alt=\"Open In Colab\"/></a>"
      ]
    },
    {
      "cell_type": "code",
      "execution_count": 4,
      "metadata": {
        "colab": {
          "base_uri": "https://localhost:8080/"
        },
        "id": "Eb358eCVNxrp",
        "outputId": "53674768-c46a-4cfc-c95b-d9eb471954b5"
      },
      "outputs": [
        {
          "output_type": "stream",
          "name": "stdout",
          "text": [
            "206799.95140186916\n"
          ]
        }
      ],
      "source": [
        "import pandas as pd\n",
        "data = pd.read_csv('sample_data/california_housing_train.csv')\n",
        "data.head()\n",
        "# Затем, чтобы определить среднюю стоимость дома с количеством людей от 0 до 500, можно использовать метод `query()`:\n",
        "mean_price = data.query('population <= 500')['median_house_value'].mean()\n",
        "print(mean_price)"
      ]
    }
  ]
}